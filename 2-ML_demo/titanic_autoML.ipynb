{
 "cells": [
  {
   "cell_type": "code",
   "execution_count": 1,
   "id": "80d82205-cc9d-43df-87d5-814adc704f03",
   "metadata": {},
   "outputs": [],
   "source": [
    "import pandas as pd\n",
    "import lightgbm as lgm\n",
    "from pandas_profiling import ProfileReport\n",
    "from pycaret.datasets import get_data\n",
    "from pycaret.classification import *"
   ]
  },
  {
   "cell_type": "code",
   "execution_count": 2,
   "id": "b50f1e9b-6109-485c-8132-3c2583207c1d",
   "metadata": {},
   "outputs": [],
   "source": [
    "PATH = '../../Downloads/titanic'\n",
    "df = pd.read_csv(f\"{PATH}/train.csv\")"
   ]
  },
  {
   "cell_type": "code",
   "execution_count": 3,
   "id": "2d61b172-0224-4b91-a67c-191e19300686",
   "metadata": {},
   "outputs": [
    {
     "data": {
      "text/html": [
       "<div>\n",
       "<style scoped>\n",
       "    .dataframe tbody tr th:only-of-type {\n",
       "        vertical-align: middle;\n",
       "    }\n",
       "\n",
       "    .dataframe tbody tr th {\n",
       "        vertical-align: top;\n",
       "    }\n",
       "\n",
       "    .dataframe thead th {\n",
       "        text-align: right;\n",
       "    }\n",
       "</style>\n",
       "<table border=\"1\" class=\"dataframe\">\n",
       "  <thead>\n",
       "    <tr style=\"text-align: right;\">\n",
       "      <th></th>\n",
       "      <th>PassengerId</th>\n",
       "      <th>Survived</th>\n",
       "      <th>Pclass</th>\n",
       "      <th>Name</th>\n",
       "      <th>Sex</th>\n",
       "      <th>Age</th>\n",
       "      <th>SibSp</th>\n",
       "      <th>Parch</th>\n",
       "      <th>Ticket</th>\n",
       "      <th>Fare</th>\n",
       "      <th>Cabin</th>\n",
       "      <th>Embarked</th>\n",
       "    </tr>\n",
       "  </thead>\n",
       "  <tbody>\n",
       "    <tr>\n",
       "      <th>0</th>\n",
       "      <td>1</td>\n",
       "      <td>0</td>\n",
       "      <td>3</td>\n",
       "      <td>Braund, Mr. Owen Harris</td>\n",
       "      <td>male</td>\n",
       "      <td>22.0</td>\n",
       "      <td>1</td>\n",
       "      <td>0</td>\n",
       "      <td>A/5 21171</td>\n",
       "      <td>7.2500</td>\n",
       "      <td>NaN</td>\n",
       "      <td>S</td>\n",
       "    </tr>\n",
       "    <tr>\n",
       "      <th>1</th>\n",
       "      <td>2</td>\n",
       "      <td>1</td>\n",
       "      <td>1</td>\n",
       "      <td>Cumings, Mrs. John Bradley (Florence Briggs Th...</td>\n",
       "      <td>female</td>\n",
       "      <td>38.0</td>\n",
       "      <td>1</td>\n",
       "      <td>0</td>\n",
       "      <td>PC 17599</td>\n",
       "      <td>71.2833</td>\n",
       "      <td>C85</td>\n",
       "      <td>C</td>\n",
       "    </tr>\n",
       "  </tbody>\n",
       "</table>\n",
       "</div>"
      ],
      "text/plain": [
       "   PassengerId  Survived  Pclass  \\\n",
       "0            1         0       3   \n",
       "1            2         1       1   \n",
       "\n",
       "                                                Name     Sex   Age  SibSp  \\\n",
       "0                            Braund, Mr. Owen Harris    male  22.0      1   \n",
       "1  Cumings, Mrs. John Bradley (Florence Briggs Th...  female  38.0      1   \n",
       "\n",
       "   Parch     Ticket     Fare Cabin Embarked  \n",
       "0      0  A/5 21171   7.2500   NaN        S  \n",
       "1      0   PC 17599  71.2833   C85        C  "
      ]
     },
     "execution_count": 3,
     "metadata": {},
     "output_type": "execute_result"
    }
   ],
   "source": [
    "df.head(2)"
   ]
  },
  {
   "cell_type": "markdown",
   "id": "dc1e52b5-2a83-4bd8-9b31-13647d7810d1",
   "metadata": {},
   "source": [
    "# EDA"
   ]
  },
  {
   "cell_type": "code",
   "execution_count": null,
   "id": "7b40072f-267f-4e16-9534-03e496f0c02b",
   "metadata": {},
   "outputs": [],
   "source": [
    "profile = ProfileReport(df, title=\"Pandas Profiling Titanic Report\")\n",
    "profile.to_file(\"eda_titanic.html\")"
   ]
  },
  {
   "cell_type": "markdown",
   "id": "d2986504-939f-4ad4-a8cb-f5808e60b39c",
   "metadata": {},
   "source": [
    "# Model"
   ]
  },
  {
   "cell_type": "code",
   "execution_count": 5,
   "id": "e765b14f-8169-4a22-9b01-eac3b4e6ccca",
   "metadata": {},
   "outputs": [
    {
     "data": {
      "text/html": [
       "<style type=\"text/css\">\n",
       "#T_92fa6_row11_col1 {\n",
       "  background-color: lightgreen;\n",
       "}\n",
       "</style>\n",
       "<table id=\"T_92fa6\">\n",
       "  <thead>\n",
       "    <tr>\n",
       "      <th class=\"blank level0\" >&nbsp;</th>\n",
       "      <th id=\"T_92fa6_level0_col0\" class=\"col_heading level0 col0\" >Description</th>\n",
       "      <th id=\"T_92fa6_level0_col1\" class=\"col_heading level0 col1\" >Value</th>\n",
       "    </tr>\n",
       "  </thead>\n",
       "  <tbody>\n",
       "    <tr>\n",
       "      <th id=\"T_92fa6_level0_row0\" class=\"row_heading level0 row0\" >0</th>\n",
       "      <td id=\"T_92fa6_row0_col0\" class=\"data row0 col0\" >Session id</td>\n",
       "      <td id=\"T_92fa6_row0_col1\" class=\"data row0 col1\" >1390</td>\n",
       "    </tr>\n",
       "    <tr>\n",
       "      <th id=\"T_92fa6_level0_row1\" class=\"row_heading level0 row1\" >1</th>\n",
       "      <td id=\"T_92fa6_row1_col0\" class=\"data row1 col0\" >Target</td>\n",
       "      <td id=\"T_92fa6_row1_col1\" class=\"data row1 col1\" >Survived</td>\n",
       "    </tr>\n",
       "    <tr>\n",
       "      <th id=\"T_92fa6_level0_row2\" class=\"row_heading level0 row2\" >2</th>\n",
       "      <td id=\"T_92fa6_row2_col0\" class=\"data row2 col0\" >Target type</td>\n",
       "      <td id=\"T_92fa6_row2_col1\" class=\"data row2 col1\" >Binary</td>\n",
       "    </tr>\n",
       "    <tr>\n",
       "      <th id=\"T_92fa6_level0_row3\" class=\"row_heading level0 row3\" >3</th>\n",
       "      <td id=\"T_92fa6_row3_col0\" class=\"data row3 col0\" >Original data shape</td>\n",
       "      <td id=\"T_92fa6_row3_col1\" class=\"data row3 col1\" >(891, 12)</td>\n",
       "    </tr>\n",
       "    <tr>\n",
       "      <th id=\"T_92fa6_level0_row4\" class=\"row_heading level0 row4\" >4</th>\n",
       "      <td id=\"T_92fa6_row4_col0\" class=\"data row4 col0\" >Transformed data shape</td>\n",
       "      <td id=\"T_92fa6_row4_col1\" class=\"data row4 col1\" >(891, 14)</td>\n",
       "    </tr>\n",
       "    <tr>\n",
       "      <th id=\"T_92fa6_level0_row5\" class=\"row_heading level0 row5\" >5</th>\n",
       "      <td id=\"T_92fa6_row5_col0\" class=\"data row5 col0\" >Transformed train set shape</td>\n",
       "      <td id=\"T_92fa6_row5_col1\" class=\"data row5 col1\" >(623, 14)</td>\n",
       "    </tr>\n",
       "    <tr>\n",
       "      <th id=\"T_92fa6_level0_row6\" class=\"row_heading level0 row6\" >6</th>\n",
       "      <td id=\"T_92fa6_row6_col0\" class=\"data row6 col0\" >Transformed test set shape</td>\n",
       "      <td id=\"T_92fa6_row6_col1\" class=\"data row6 col1\" >(268, 14)</td>\n",
       "    </tr>\n",
       "    <tr>\n",
       "      <th id=\"T_92fa6_level0_row7\" class=\"row_heading level0 row7\" >7</th>\n",
       "      <td id=\"T_92fa6_row7_col0\" class=\"data row7 col0\" >Ordinal features</td>\n",
       "      <td id=\"T_92fa6_row7_col1\" class=\"data row7 col1\" >1</td>\n",
       "    </tr>\n",
       "    <tr>\n",
       "      <th id=\"T_92fa6_level0_row8\" class=\"row_heading level0 row8\" >8</th>\n",
       "      <td id=\"T_92fa6_row8_col0\" class=\"data row8 col0\" >Numeric features</td>\n",
       "      <td id=\"T_92fa6_row8_col1\" class=\"data row8 col1\" >6</td>\n",
       "    </tr>\n",
       "    <tr>\n",
       "      <th id=\"T_92fa6_level0_row9\" class=\"row_heading level0 row9\" >9</th>\n",
       "      <td id=\"T_92fa6_row9_col0\" class=\"data row9 col0\" >Categorical features</td>\n",
       "      <td id=\"T_92fa6_row9_col1\" class=\"data row9 col1\" >5</td>\n",
       "    </tr>\n",
       "    <tr>\n",
       "      <th id=\"T_92fa6_level0_row10\" class=\"row_heading level0 row10\" >10</th>\n",
       "      <td id=\"T_92fa6_row10_col0\" class=\"data row10 col0\" >Rows with missing values</td>\n",
       "      <td id=\"T_92fa6_row10_col1\" class=\"data row10 col1\" >79.5%</td>\n",
       "    </tr>\n",
       "    <tr>\n",
       "      <th id=\"T_92fa6_level0_row11\" class=\"row_heading level0 row11\" >11</th>\n",
       "      <td id=\"T_92fa6_row11_col0\" class=\"data row11 col0\" >Preprocess</td>\n",
       "      <td id=\"T_92fa6_row11_col1\" class=\"data row11 col1\" >True</td>\n",
       "    </tr>\n",
       "    <tr>\n",
       "      <th id=\"T_92fa6_level0_row12\" class=\"row_heading level0 row12\" >12</th>\n",
       "      <td id=\"T_92fa6_row12_col0\" class=\"data row12 col0\" >Imputation type</td>\n",
       "      <td id=\"T_92fa6_row12_col1\" class=\"data row12 col1\" >simple</td>\n",
       "    </tr>\n",
       "    <tr>\n",
       "      <th id=\"T_92fa6_level0_row13\" class=\"row_heading level0 row13\" >13</th>\n",
       "      <td id=\"T_92fa6_row13_col0\" class=\"data row13 col0\" >Numeric imputation</td>\n",
       "      <td id=\"T_92fa6_row13_col1\" class=\"data row13 col1\" >mean</td>\n",
       "    </tr>\n",
       "    <tr>\n",
       "      <th id=\"T_92fa6_level0_row14\" class=\"row_heading level0 row14\" >14</th>\n",
       "      <td id=\"T_92fa6_row14_col0\" class=\"data row14 col0\" >Categorical imputation</td>\n",
       "      <td id=\"T_92fa6_row14_col1\" class=\"data row14 col1\" >constant</td>\n",
       "    </tr>\n",
       "    <tr>\n",
       "      <th id=\"T_92fa6_level0_row15\" class=\"row_heading level0 row15\" >15</th>\n",
       "      <td id=\"T_92fa6_row15_col0\" class=\"data row15 col0\" >Maximum one-hot encoding</td>\n",
       "      <td id=\"T_92fa6_row15_col1\" class=\"data row15 col1\" >5</td>\n",
       "    </tr>\n",
       "    <tr>\n",
       "      <th id=\"T_92fa6_level0_row16\" class=\"row_heading level0 row16\" >16</th>\n",
       "      <td id=\"T_92fa6_row16_col0\" class=\"data row16 col0\" >Encoding method</td>\n",
       "      <td id=\"T_92fa6_row16_col1\" class=\"data row16 col1\" >None</td>\n",
       "    </tr>\n",
       "    <tr>\n",
       "      <th id=\"T_92fa6_level0_row17\" class=\"row_heading level0 row17\" >17</th>\n",
       "      <td id=\"T_92fa6_row17_col0\" class=\"data row17 col0\" >Low variance threshold</td>\n",
       "      <td id=\"T_92fa6_row17_col1\" class=\"data row17 col1\" >0</td>\n",
       "    </tr>\n",
       "    <tr>\n",
       "      <th id=\"T_92fa6_level0_row18\" class=\"row_heading level0 row18\" >18</th>\n",
       "      <td id=\"T_92fa6_row18_col0\" class=\"data row18 col0\" >Fold Generator</td>\n",
       "      <td id=\"T_92fa6_row18_col1\" class=\"data row18 col1\" >StratifiedKFold</td>\n",
       "    </tr>\n",
       "    <tr>\n",
       "      <th id=\"T_92fa6_level0_row19\" class=\"row_heading level0 row19\" >19</th>\n",
       "      <td id=\"T_92fa6_row19_col0\" class=\"data row19 col0\" >Fold Number</td>\n",
       "      <td id=\"T_92fa6_row19_col1\" class=\"data row19 col1\" >10</td>\n",
       "    </tr>\n",
       "    <tr>\n",
       "      <th id=\"T_92fa6_level0_row20\" class=\"row_heading level0 row20\" >20</th>\n",
       "      <td id=\"T_92fa6_row20_col0\" class=\"data row20 col0\" >CPU Jobs</td>\n",
       "      <td id=\"T_92fa6_row20_col1\" class=\"data row20 col1\" >-1</td>\n",
       "    </tr>\n",
       "    <tr>\n",
       "      <th id=\"T_92fa6_level0_row21\" class=\"row_heading level0 row21\" >21</th>\n",
       "      <td id=\"T_92fa6_row21_col0\" class=\"data row21 col0\" >Use GPU</td>\n",
       "      <td id=\"T_92fa6_row21_col1\" class=\"data row21 col1\" >False</td>\n",
       "    </tr>\n",
       "    <tr>\n",
       "      <th id=\"T_92fa6_level0_row22\" class=\"row_heading level0 row22\" >22</th>\n",
       "      <td id=\"T_92fa6_row22_col0\" class=\"data row22 col0\" >Log Experiment</td>\n",
       "      <td id=\"T_92fa6_row22_col1\" class=\"data row22 col1\" >False</td>\n",
       "    </tr>\n",
       "    <tr>\n",
       "      <th id=\"T_92fa6_level0_row23\" class=\"row_heading level0 row23\" >23</th>\n",
       "      <td id=\"T_92fa6_row23_col0\" class=\"data row23 col0\" >Experiment Name</td>\n",
       "      <td id=\"T_92fa6_row23_col1\" class=\"data row23 col1\" >clf-default-name</td>\n",
       "    </tr>\n",
       "    <tr>\n",
       "      <th id=\"T_92fa6_level0_row24\" class=\"row_heading level0 row24\" >24</th>\n",
       "      <td id=\"T_92fa6_row24_col0\" class=\"data row24 col0\" >USI</td>\n",
       "      <td id=\"T_92fa6_row24_col1\" class=\"data row24 col1\" >9a76</td>\n",
       "    </tr>\n",
       "  </tbody>\n",
       "</table>\n"
      ],
      "text/plain": [
       "<pandas.io.formats.style.Styler at 0x7fa897665c70>"
      ]
     },
     "metadata": {},
     "output_type": "display_data"
    }
   ],
   "source": [
    "s = setup(df, target = 'Survived')"
   ]
  },
  {
   "cell_type": "code",
   "execution_count": null,
   "id": "b14f50e1-a245-4a5a-b7df-1bbfc3ba9548",
   "metadata": {},
   "outputs": [],
   "source": [
    "best = compare_models(include = ['lightgbm'])"
   ]
  },
  {
   "cell_type": "code",
   "execution_count": 22,
   "id": "e18f3292-f94c-48d9-b3be-1a66e4b928c2",
   "metadata": {},
   "outputs": [
    {
     "data": {
      "application/vnd.jupyter.widget-view+json": {
       "model_id": "57b8120c2f4e4b37a218b9c38ab7ed3e",
       "version_major": 2,
       "version_minor": 0
      },
      "text/plain": [
       "interactive(children=(ToggleButtons(description='Plot Type:', icons=('',), options=(('Pipeline Plot', 'pipelin…"
      ]
     },
     "metadata": {},
     "output_type": "display_data"
    }
   ],
   "source": [
    "evaluate_model(best)"
   ]
  },
  {
   "cell_type": "code",
   "execution_count": 23,
   "id": "cb176e00-39a4-4c5b-a900-291635f6d0ed",
   "metadata": {},
   "outputs": [
    {
     "data": {
      "text/html": [
       "<style>#sk-container-id-2 {color: black;background-color: white;}#sk-container-id-2 pre{padding: 0;}#sk-container-id-2 div.sk-toggleable {background-color: white;}#sk-container-id-2 label.sk-toggleable__label {cursor: pointer;display: block;width: 100%;margin-bottom: 0;padding: 0.3em;box-sizing: border-box;text-align: center;}#sk-container-id-2 label.sk-toggleable__label-arrow:before {content: \"▸\";float: left;margin-right: 0.25em;color: #696969;}#sk-container-id-2 label.sk-toggleable__label-arrow:hover:before {color: black;}#sk-container-id-2 div.sk-estimator:hover label.sk-toggleable__label-arrow:before {color: black;}#sk-container-id-2 div.sk-toggleable__content {max-height: 0;max-width: 0;overflow: hidden;text-align: left;background-color: #f0f8ff;}#sk-container-id-2 div.sk-toggleable__content pre {margin: 0.2em;color: black;border-radius: 0.25em;background-color: #f0f8ff;}#sk-container-id-2 input.sk-toggleable__control:checked~div.sk-toggleable__content {max-height: 200px;max-width: 100%;overflow: auto;}#sk-container-id-2 input.sk-toggleable__control:checked~label.sk-toggleable__label-arrow:before {content: \"▾\";}#sk-container-id-2 div.sk-estimator input.sk-toggleable__control:checked~label.sk-toggleable__label {background-color: #d4ebff;}#sk-container-id-2 div.sk-label input.sk-toggleable__control:checked~label.sk-toggleable__label {background-color: #d4ebff;}#sk-container-id-2 input.sk-hidden--visually {border: 0;clip: rect(1px 1px 1px 1px);clip: rect(1px, 1px, 1px, 1px);height: 1px;margin: -1px;overflow: hidden;padding: 0;position: absolute;width: 1px;}#sk-container-id-2 div.sk-estimator {font-family: monospace;background-color: #f0f8ff;border: 1px dotted black;border-radius: 0.25em;box-sizing: border-box;margin-bottom: 0.5em;}#sk-container-id-2 div.sk-estimator:hover {background-color: #d4ebff;}#sk-container-id-2 div.sk-parallel-item::after {content: \"\";width: 100%;border-bottom: 1px solid gray;flex-grow: 1;}#sk-container-id-2 div.sk-label:hover label.sk-toggleable__label {background-color: #d4ebff;}#sk-container-id-2 div.sk-serial::before {content: \"\";position: absolute;border-left: 1px solid gray;box-sizing: border-box;top: 0;bottom: 0;left: 50%;z-index: 0;}#sk-container-id-2 div.sk-serial {display: flex;flex-direction: column;align-items: center;background-color: white;padding-right: 0.2em;padding-left: 0.2em;position: relative;}#sk-container-id-2 div.sk-item {position: relative;z-index: 1;}#sk-container-id-2 div.sk-parallel {display: flex;align-items: stretch;justify-content: center;background-color: white;position: relative;}#sk-container-id-2 div.sk-item::before, #sk-container-id-2 div.sk-parallel-item::before {content: \"\";position: absolute;border-left: 1px solid gray;box-sizing: border-box;top: 0;bottom: 0;left: 50%;z-index: -1;}#sk-container-id-2 div.sk-parallel-item {display: flex;flex-direction: column;z-index: 1;position: relative;background-color: white;}#sk-container-id-2 div.sk-parallel-item:first-child::after {align-self: flex-end;width: 50%;}#sk-container-id-2 div.sk-parallel-item:last-child::after {align-self: flex-start;width: 50%;}#sk-container-id-2 div.sk-parallel-item:only-child::after {width: 0;}#sk-container-id-2 div.sk-dashed-wrapped {border: 1px dashed gray;margin: 0 0.4em 0.5em 0.4em;box-sizing: border-box;padding-bottom: 0.4em;background-color: white;}#sk-container-id-2 div.sk-label label {font-family: monospace;font-weight: bold;display: inline-block;line-height: 1.2em;}#sk-container-id-2 div.sk-label-container {text-align: center;}#sk-container-id-2 div.sk-container {/* jupyter's `normalize.less` sets `[hidden] { display: none; }` but bootstrap.min.css set `[hidden] { display: none !important; }` so we also need the `!important` here to be able to override the default hidden behavior on the sphinx rendered scikit-learn.org. See: https://github.com/scikit-learn/scikit-learn/issues/21755 */display: inline-block !important;position: relative;}#sk-container-id-2 div.sk-text-repr-fallback {display: none;}</style><div id=\"sk-container-id-2\" class=\"sk-top-container\"><div class=\"sk-text-repr-fallback\"><pre>LogisticRegression(C=1.0, class_weight=None, dual=False, fit_intercept=True,\n",
       "                   intercept_scaling=1, l1_ratio=None, max_iter=1000,\n",
       "                   multi_class=&#x27;auto&#x27;, n_jobs=None, penalty=&#x27;l2&#x27;,\n",
       "                   random_state=1796, solver=&#x27;lbfgs&#x27;, tol=0.0001, verbose=0,\n",
       "                   warm_start=False)</pre><b>In a Jupyter environment, please rerun this cell to show the HTML representation or trust the notebook. <br />On GitHub, the HTML representation is unable to render, please try loading this page with nbviewer.org.</b></div><div class=\"sk-container\" hidden><div class=\"sk-item\"><div class=\"sk-estimator sk-toggleable\"><input class=\"sk-toggleable__control sk-hidden--visually\" id=\"sk-estimator-id-2\" type=\"checkbox\" checked><label for=\"sk-estimator-id-2\" class=\"sk-toggleable__label sk-toggleable__label-arrow\">LogisticRegression</label><div class=\"sk-toggleable__content\"><pre>LogisticRegression(C=1.0, class_weight=None, dual=False, fit_intercept=True,\n",
       "                   intercept_scaling=1, l1_ratio=None, max_iter=1000,\n",
       "                   multi_class=&#x27;auto&#x27;, n_jobs=None, penalty=&#x27;l2&#x27;,\n",
       "                   random_state=1796, solver=&#x27;lbfgs&#x27;, tol=0.0001, verbose=0,\n",
       "                   warm_start=False)</pre></div></div></div></div></div>"
      ],
      "text/plain": [
       "LogisticRegression(C=1.0, class_weight=None, dual=False, fit_intercept=True,\n",
       "                   intercept_scaling=1, l1_ratio=None, max_iter=1000,\n",
       "                   multi_class='auto', n_jobs=None, penalty='l2',\n",
       "                   random_state=1796, solver='lbfgs', tol=0.0001, verbose=0,\n",
       "                   warm_start=False)"
      ]
     },
     "execution_count": 23,
     "metadata": {},
     "output_type": "execute_result"
    }
   ],
   "source": [
    "best"
   ]
  },
  {
   "cell_type": "code",
   "execution_count": null,
   "id": "de019e14-14b0-4fe3-bec5-8b9837adc469",
   "metadata": {},
   "outputs": [],
   "source": []
  },
  {
   "cell_type": "markdown",
   "id": "97624c5e-a2bf-4fe0-bc98-097951724469",
   "metadata": {},
   "source": [
    "#  Train and Tuning one model"
   ]
  },
  {
   "cell_type": "code",
   "execution_count": 6,
   "id": "5e88578e-d2b7-42e1-96c5-5dc5dd48ed43",
   "metadata": {},
   "outputs": [
    {
     "data": {
      "text/html": [],
      "text/plain": [
       "<IPython.core.display.HTML object>"
      ]
     },
     "metadata": {},
     "output_type": "display_data"
    },
    {
     "data": {
      "text/html": [
       "<style type=\"text/css\">\n",
       "#T_23a1d_row10_col0, #T_23a1d_row10_col1, #T_23a1d_row10_col2, #T_23a1d_row10_col3, #T_23a1d_row10_col4, #T_23a1d_row10_col5, #T_23a1d_row10_col6 {\n",
       "  background: yellow;\n",
       "}\n",
       "</style>\n",
       "<table id=\"T_23a1d\">\n",
       "  <thead>\n",
       "    <tr>\n",
       "      <th class=\"blank level0\" >&nbsp;</th>\n",
       "      <th id=\"T_23a1d_level0_col0\" class=\"col_heading level0 col0\" >Accuracy</th>\n",
       "      <th id=\"T_23a1d_level0_col1\" class=\"col_heading level0 col1\" >AUC</th>\n",
       "      <th id=\"T_23a1d_level0_col2\" class=\"col_heading level0 col2\" >Recall</th>\n",
       "      <th id=\"T_23a1d_level0_col3\" class=\"col_heading level0 col3\" >Prec.</th>\n",
       "      <th id=\"T_23a1d_level0_col4\" class=\"col_heading level0 col4\" >F1</th>\n",
       "      <th id=\"T_23a1d_level0_col5\" class=\"col_heading level0 col5\" >Kappa</th>\n",
       "      <th id=\"T_23a1d_level0_col6\" class=\"col_heading level0 col6\" >MCC</th>\n",
       "    </tr>\n",
       "    <tr>\n",
       "      <th class=\"index_name level0\" >Fold</th>\n",
       "      <th class=\"blank col0\" >&nbsp;</th>\n",
       "      <th class=\"blank col1\" >&nbsp;</th>\n",
       "      <th class=\"blank col2\" >&nbsp;</th>\n",
       "      <th class=\"blank col3\" >&nbsp;</th>\n",
       "      <th class=\"blank col4\" >&nbsp;</th>\n",
       "      <th class=\"blank col5\" >&nbsp;</th>\n",
       "      <th class=\"blank col6\" >&nbsp;</th>\n",
       "    </tr>\n",
       "  </thead>\n",
       "  <tbody>\n",
       "    <tr>\n",
       "      <th id=\"T_23a1d_level0_row0\" class=\"row_heading level0 row0\" >0</th>\n",
       "      <td id=\"T_23a1d_row0_col0\" class=\"data row0 col0\" >0.6667</td>\n",
       "      <td id=\"T_23a1d_row0_col1\" class=\"data row0 col1\" >0.5946</td>\n",
       "      <td id=\"T_23a1d_row0_col2\" class=\"data row0 col2\" >0.2917</td>\n",
       "      <td id=\"T_23a1d_row0_col3\" class=\"data row0 col3\" >0.6364</td>\n",
       "      <td id=\"T_23a1d_row0_col4\" class=\"data row0 col4\" >0.4000</td>\n",
       "      <td id=\"T_23a1d_row0_col5\" class=\"data row0 col5\" >0.2111</td>\n",
       "      <td id=\"T_23a1d_row0_col6\" class=\"data row0 col6\" >0.2419</td>\n",
       "    </tr>\n",
       "    <tr>\n",
       "      <th id=\"T_23a1d_level0_row1\" class=\"row_heading level0 row1\" >1</th>\n",
       "      <td id=\"T_23a1d_row1_col0\" class=\"data row1 col0\" >0.7143</td>\n",
       "      <td id=\"T_23a1d_row1_col1\" class=\"data row1 col1\" >0.6330</td>\n",
       "      <td id=\"T_23a1d_row1_col2\" class=\"data row1 col2\" >0.2917</td>\n",
       "      <td id=\"T_23a1d_row1_col3\" class=\"data row1 col3\" >0.8750</td>\n",
       "      <td id=\"T_23a1d_row1_col4\" class=\"data row1 col4\" >0.4375</td>\n",
       "      <td id=\"T_23a1d_row1_col5\" class=\"data row1 col5\" >0.3051</td>\n",
       "      <td id=\"T_23a1d_row1_col6\" class=\"data row1 col6\" >0.3880</td>\n",
       "    </tr>\n",
       "    <tr>\n",
       "      <th id=\"T_23a1d_level0_row2\" class=\"row_heading level0 row2\" >2</th>\n",
       "      <td id=\"T_23a1d_row2_col0\" class=\"data row2 col0\" >0.6825</td>\n",
       "      <td id=\"T_23a1d_row2_col1\" class=\"data row2 col1\" >0.6074</td>\n",
       "      <td id=\"T_23a1d_row2_col2\" class=\"data row2 col2\" >0.2917</td>\n",
       "      <td id=\"T_23a1d_row2_col3\" class=\"data row2 col3\" >0.7000</td>\n",
       "      <td id=\"T_23a1d_row2_col4\" class=\"data row2 col4\" >0.4118</td>\n",
       "      <td id=\"T_23a1d_row2_col5\" class=\"data row2 col5\" >0.2419</td>\n",
       "      <td id=\"T_23a1d_row2_col6\" class=\"data row2 col6\" >0.2854</td>\n",
       "    </tr>\n",
       "    <tr>\n",
       "      <th id=\"T_23a1d_level0_row3\" class=\"row_heading level0 row3\" >3</th>\n",
       "      <td id=\"T_23a1d_row3_col0\" class=\"data row3 col0\" >0.7419</td>\n",
       "      <td id=\"T_23a1d_row3_col1\" class=\"data row3 col1\" >0.6522</td>\n",
       "      <td id=\"T_23a1d_row3_col2\" class=\"data row3 col2\" >0.3043</td>\n",
       "      <td id=\"T_23a1d_row3_col3\" class=\"data row3 col3\" >1.0000</td>\n",
       "      <td id=\"T_23a1d_row3_col4\" class=\"data row3 col4\" >0.4667</td>\n",
       "      <td id=\"T_23a1d_row3_col5\" class=\"data row3 col5\" >0.3550</td>\n",
       "      <td id=\"T_23a1d_row3_col6\" class=\"data row3 col6\" >0.4646</td>\n",
       "    </tr>\n",
       "    <tr>\n",
       "      <th id=\"T_23a1d_level0_row4\" class=\"row_heading level0 row4\" >4</th>\n",
       "      <td id=\"T_23a1d_row4_col0\" class=\"data row4 col0\" >0.6613</td>\n",
       "      <td id=\"T_23a1d_row4_col1\" class=\"data row4 col1\" >0.5932</td>\n",
       "      <td id=\"T_23a1d_row4_col2\" class=\"data row4 col2\" >0.2917</td>\n",
       "      <td id=\"T_23a1d_row4_col3\" class=\"data row4 col3\" >0.6364</td>\n",
       "      <td id=\"T_23a1d_row4_col4\" class=\"data row4 col4\" >0.4000</td>\n",
       "      <td id=\"T_23a1d_row4_col5\" class=\"data row4 col5\" >0.2071</td>\n",
       "      <td id=\"T_23a1d_row4_col6\" class=\"data row4 col6\" >0.2377</td>\n",
       "    </tr>\n",
       "    <tr>\n",
       "      <th id=\"T_23a1d_level0_row5\" class=\"row_heading level0 row5\" >5</th>\n",
       "      <td id=\"T_23a1d_row5_col0\" class=\"data row5 col0\" >0.6613</td>\n",
       "      <td id=\"T_23a1d_row5_col1\" class=\"data row5 col1\" >0.5855</td>\n",
       "      <td id=\"T_23a1d_row5_col2\" class=\"data row5 col2\" >0.2500</td>\n",
       "      <td id=\"T_23a1d_row5_col3\" class=\"data row5 col3\" >0.6667</td>\n",
       "      <td id=\"T_23a1d_row5_col4\" class=\"data row5 col4\" >0.3636</td>\n",
       "      <td id=\"T_23a1d_row5_col5\" class=\"data row5 col5\" >0.1933</td>\n",
       "      <td id=\"T_23a1d_row5_col6\" class=\"data row5 col6\" >0.2365</td>\n",
       "    </tr>\n",
       "    <tr>\n",
       "      <th id=\"T_23a1d_level0_row6\" class=\"row_heading level0 row6\" >6</th>\n",
       "      <td id=\"T_23a1d_row6_col0\" class=\"data row6 col0\" >0.7258</td>\n",
       "      <td id=\"T_23a1d_row6_col1\" class=\"data row6 col1\" >0.6689</td>\n",
       "      <td id=\"T_23a1d_row6_col2\" class=\"data row6 col2\" >0.4167</td>\n",
       "      <td id=\"T_23a1d_row6_col3\" class=\"data row6 col3\" >0.7692</td>\n",
       "      <td id=\"T_23a1d_row6_col4\" class=\"data row6 col4\" >0.5405</td>\n",
       "      <td id=\"T_23a1d_row6_col5\" class=\"data row6 col5\" >0.3689</td>\n",
       "      <td id=\"T_23a1d_row6_col6\" class=\"data row6 col6\" >0.4041</td>\n",
       "    </tr>\n",
       "    <tr>\n",
       "      <th id=\"T_23a1d_level0_row7\" class=\"row_heading level0 row7\" >7</th>\n",
       "      <td id=\"T_23a1d_row7_col0\" class=\"data row7 col0\" >0.7581</td>\n",
       "      <td id=\"T_23a1d_row7_col1\" class=\"data row7 col1\" >0.6875</td>\n",
       "      <td id=\"T_23a1d_row7_col2\" class=\"data row7 col2\" >0.3750</td>\n",
       "      <td id=\"T_23a1d_row7_col3\" class=\"data row7 col3\" >1.0000</td>\n",
       "      <td id=\"T_23a1d_row7_col4\" class=\"data row7 col4\" >0.5455</td>\n",
       "      <td id=\"T_23a1d_row7_col5\" class=\"data row7 col5\" >0.4238</td>\n",
       "      <td id=\"T_23a1d_row7_col6\" class=\"data row7 col6\" >0.5185</td>\n",
       "    </tr>\n",
       "    <tr>\n",
       "      <th id=\"T_23a1d_level0_row8\" class=\"row_heading level0 row8\" >8</th>\n",
       "      <td id=\"T_23a1d_row8_col0\" class=\"data row8 col0\" >0.7581</td>\n",
       "      <td id=\"T_23a1d_row8_col1\" class=\"data row8 col1\" >0.7029</td>\n",
       "      <td id=\"T_23a1d_row8_col2\" class=\"data row8 col2\" >0.4583</td>\n",
       "      <td id=\"T_23a1d_row8_col3\" class=\"data row8 col3\" >0.8462</td>\n",
       "      <td id=\"T_23a1d_row8_col4\" class=\"data row8 col4\" >0.5946</td>\n",
       "      <td id=\"T_23a1d_row8_col5\" class=\"data row8 col5\" >0.4431</td>\n",
       "      <td id=\"T_23a1d_row8_col6\" class=\"data row8 col6\" >0.4854</td>\n",
       "    </tr>\n",
       "    <tr>\n",
       "      <th id=\"T_23a1d_level0_row9\" class=\"row_heading level0 row9\" >9</th>\n",
       "      <td id=\"T_23a1d_row9_col0\" class=\"data row9 col0\" >0.6774</td>\n",
       "      <td id=\"T_23a1d_row9_col1\" class=\"data row9 col1\" >0.6064</td>\n",
       "      <td id=\"T_23a1d_row9_col2\" class=\"data row9 col2\" >0.2917</td>\n",
       "      <td id=\"T_23a1d_row9_col3\" class=\"data row9 col3\" >0.7000</td>\n",
       "      <td id=\"T_23a1d_row9_col4\" class=\"data row9 col4\" >0.4118</td>\n",
       "      <td id=\"T_23a1d_row9_col5\" class=\"data row9 col5\" >0.2383</td>\n",
       "      <td id=\"T_23a1d_row9_col6\" class=\"data row9 col6\" >0.2817</td>\n",
       "    </tr>\n",
       "    <tr>\n",
       "      <th id=\"T_23a1d_level0_row10\" class=\"row_heading level0 row10\" >Mean</th>\n",
       "      <td id=\"T_23a1d_row10_col0\" class=\"data row10 col0\" >0.7047</td>\n",
       "      <td id=\"T_23a1d_row10_col1\" class=\"data row10 col1\" >0.6331</td>\n",
       "      <td id=\"T_23a1d_row10_col2\" class=\"data row10 col2\" >0.3263</td>\n",
       "      <td id=\"T_23a1d_row10_col3\" class=\"data row10 col3\" >0.7830</td>\n",
       "      <td id=\"T_23a1d_row10_col4\" class=\"data row10 col4\" >0.4572</td>\n",
       "      <td id=\"T_23a1d_row10_col5\" class=\"data row10 col5\" >0.2988</td>\n",
       "      <td id=\"T_23a1d_row10_col6\" class=\"data row10 col6\" >0.3544</td>\n",
       "    </tr>\n",
       "    <tr>\n",
       "      <th id=\"T_23a1d_level0_row11\" class=\"row_heading level0 row11\" >Std</th>\n",
       "      <td id=\"T_23a1d_row11_col0\" class=\"data row11 col0\" >0.0375</td>\n",
       "      <td id=\"T_23a1d_row11_col1\" class=\"data row11 col1\" >0.0402</td>\n",
       "      <td id=\"T_23a1d_row11_col2\" class=\"data row11 col2\" >0.0635</td>\n",
       "      <td id=\"T_23a1d_row11_col3\" class=\"data row11 col3\" >0.1331</td>\n",
       "      <td id=\"T_23a1d_row11_col4\" class=\"data row11 col4\" >0.0732</td>\n",
       "      <td id=\"T_23a1d_row11_col5\" class=\"data row11 col5\" >0.0887</td>\n",
       "      <td id=\"T_23a1d_row11_col6\" class=\"data row11 col6\" >0.1049</td>\n",
       "    </tr>\n",
       "  </tbody>\n",
       "</table>\n"
      ],
      "text/plain": [
       "<pandas.io.formats.style.Styler at 0x7fa89720b250>"
      ]
     },
     "metadata": {},
     "output_type": "display_data"
    },
    {
     "data": {
      "application/vnd.jupyter.widget-view+json": {
       "model_id": "",
       "version_major": 2,
       "version_minor": 0
      },
      "text/plain": [
       "Processing:   0%|          | 0/4 [00:00<?, ?it/s]"
      ]
     },
     "metadata": {},
     "output_type": "display_data"
    },
    {
     "data": {
      "text/html": [],
      "text/plain": [
       "<IPython.core.display.HTML object>"
      ]
     },
     "metadata": {},
     "output_type": "display_data"
    },
    {
     "data": {
      "text/html": [
       "<style type=\"text/css\">\n",
       "#T_b3b12_row10_col0, #T_b3b12_row10_col1, #T_b3b12_row10_col2, #T_b3b12_row10_col3, #T_b3b12_row10_col4, #T_b3b12_row10_col5, #T_b3b12_row10_col6 {\n",
       "  background: yellow;\n",
       "}\n",
       "</style>\n",
       "<table id=\"T_b3b12\">\n",
       "  <thead>\n",
       "    <tr>\n",
       "      <th class=\"blank level0\" >&nbsp;</th>\n",
       "      <th id=\"T_b3b12_level0_col0\" class=\"col_heading level0 col0\" >Accuracy</th>\n",
       "      <th id=\"T_b3b12_level0_col1\" class=\"col_heading level0 col1\" >AUC</th>\n",
       "      <th id=\"T_b3b12_level0_col2\" class=\"col_heading level0 col2\" >Recall</th>\n",
       "      <th id=\"T_b3b12_level0_col3\" class=\"col_heading level0 col3\" >Prec.</th>\n",
       "      <th id=\"T_b3b12_level0_col4\" class=\"col_heading level0 col4\" >F1</th>\n",
       "      <th id=\"T_b3b12_level0_col5\" class=\"col_heading level0 col5\" >Kappa</th>\n",
       "      <th id=\"T_b3b12_level0_col6\" class=\"col_heading level0 col6\" >MCC</th>\n",
       "    </tr>\n",
       "    <tr>\n",
       "      <th class=\"index_name level0\" >Fold</th>\n",
       "      <th class=\"blank col0\" >&nbsp;</th>\n",
       "      <th class=\"blank col1\" >&nbsp;</th>\n",
       "      <th class=\"blank col2\" >&nbsp;</th>\n",
       "      <th class=\"blank col3\" >&nbsp;</th>\n",
       "      <th class=\"blank col4\" >&nbsp;</th>\n",
       "      <th class=\"blank col5\" >&nbsp;</th>\n",
       "      <th class=\"blank col6\" >&nbsp;</th>\n",
       "    </tr>\n",
       "  </thead>\n",
       "  <tbody>\n",
       "    <tr>\n",
       "      <th id=\"T_b3b12_level0_row0\" class=\"row_heading level0 row0\" >0</th>\n",
       "      <td id=\"T_b3b12_row0_col0\" class=\"data row0 col0\" >0.6984</td>\n",
       "      <td id=\"T_b3b12_row0_col1\" class=\"data row0 col1\" >0.8104</td>\n",
       "      <td id=\"T_b3b12_row0_col2\" class=\"data row0 col2\" >0.2500</td>\n",
       "      <td id=\"T_b3b12_row0_col3\" class=\"data row0 col3\" >0.8571</td>\n",
       "      <td id=\"T_b3b12_row0_col4\" class=\"data row0 col4\" >0.3871</td>\n",
       "      <td id=\"T_b3b12_row0_col5\" class=\"data row0 col5\" >0.2597</td>\n",
       "      <td id=\"T_b3b12_row0_col6\" class=\"data row0 col6\" >0.3467</td>\n",
       "    </tr>\n",
       "    <tr>\n",
       "      <th id=\"T_b3b12_level0_row1\" class=\"row_heading level0 row1\" >1</th>\n",
       "      <td id=\"T_b3b12_row1_col0\" class=\"data row1 col0\" >0.8571</td>\n",
       "      <td id=\"T_b3b12_row1_col1\" class=\"data row1 col1\" >0.8616</td>\n",
       "      <td id=\"T_b3b12_row1_col2\" class=\"data row1 col2\" >0.7083</td>\n",
       "      <td id=\"T_b3b12_row1_col3\" class=\"data row1 col3\" >0.8947</td>\n",
       "      <td id=\"T_b3b12_row1_col4\" class=\"data row1 col4\" >0.7907</td>\n",
       "      <td id=\"T_b3b12_row1_col5\" class=\"data row1 col5\" >0.6845</td>\n",
       "      <td id=\"T_b3b12_row1_col6\" class=\"data row1 col6\" >0.6952</td>\n",
       "    </tr>\n",
       "    <tr>\n",
       "      <th id=\"T_b3b12_level0_row2\" class=\"row_heading level0 row2\" >2</th>\n",
       "      <td id=\"T_b3b12_row2_col0\" class=\"data row2 col0\" >0.8571</td>\n",
       "      <td id=\"T_b3b12_row2_col1\" class=\"data row2 col1\" >0.8990</td>\n",
       "      <td id=\"T_b3b12_row2_col2\" class=\"data row2 col2\" >0.8333</td>\n",
       "      <td id=\"T_b3b12_row2_col3\" class=\"data row2 col3\" >0.8000</td>\n",
       "      <td id=\"T_b3b12_row2_col4\" class=\"data row2 col4\" >0.8163</td>\n",
       "      <td id=\"T_b3b12_row2_col5\" class=\"data row2 col5\" >0.6995</td>\n",
       "      <td id=\"T_b3b12_row2_col6\" class=\"data row2 col6\" >0.6999</td>\n",
       "    </tr>\n",
       "    <tr>\n",
       "      <th id=\"T_b3b12_level0_row3\" class=\"row_heading level0 row3\" >3</th>\n",
       "      <td id=\"T_b3b12_row3_col0\" class=\"data row3 col0\" >0.7258</td>\n",
       "      <td id=\"T_b3b12_row3_col1\" class=\"data row3 col1\" >0.7514</td>\n",
       "      <td id=\"T_b3b12_row3_col2\" class=\"data row3 col2\" >0.3043</td>\n",
       "      <td id=\"T_b3b12_row3_col3\" class=\"data row3 col3\" >0.8750</td>\n",
       "      <td id=\"T_b3b12_row3_col4\" class=\"data row3 col4\" >0.4516</td>\n",
       "      <td id=\"T_b3b12_row3_col5\" class=\"data row3 col5\" >0.3218</td>\n",
       "      <td id=\"T_b3b12_row3_col6\" class=\"data row3 col6\" >0.4016</td>\n",
       "    </tr>\n",
       "    <tr>\n",
       "      <th id=\"T_b3b12_level0_row4\" class=\"row_heading level0 row4\" >4</th>\n",
       "      <td id=\"T_b3b12_row4_col0\" class=\"data row4 col0\" >0.6129</td>\n",
       "      <td id=\"T_b3b12_row4_col1\" class=\"data row4 col1\" >0.6075</td>\n",
       "      <td id=\"T_b3b12_row4_col2\" class=\"data row4 col2\" >0.4167</td>\n",
       "      <td id=\"T_b3b12_row4_col3\" class=\"data row4 col3\" >0.5000</td>\n",
       "      <td id=\"T_b3b12_row4_col4\" class=\"data row4 col4\" >0.4545</td>\n",
       "      <td id=\"T_b3b12_row4_col5\" class=\"data row4 col5\" >0.1584</td>\n",
       "      <td id=\"T_b3b12_row4_col6\" class=\"data row4 col6\" >0.1600</td>\n",
       "    </tr>\n",
       "    <tr>\n",
       "      <th id=\"T_b3b12_level0_row5\" class=\"row_heading level0 row5\" >5</th>\n",
       "      <td id=\"T_b3b12_row5_col0\" class=\"data row5 col0\" >0.7581</td>\n",
       "      <td id=\"T_b3b12_row5_col1\" class=\"data row5 col1\" >0.7341</td>\n",
       "      <td id=\"T_b3b12_row5_col2\" class=\"data row5 col2\" >0.7083</td>\n",
       "      <td id=\"T_b3b12_row5_col3\" class=\"data row5 col3\" >0.6800</td>\n",
       "      <td id=\"T_b3b12_row5_col4\" class=\"data row5 col4\" >0.6939</td>\n",
       "      <td id=\"T_b3b12_row5_col5\" class=\"data row5 col5\" >0.4940</td>\n",
       "      <td id=\"T_b3b12_row5_col6\" class=\"data row5 col6\" >0.4943</td>\n",
       "    </tr>\n",
       "    <tr>\n",
       "      <th id=\"T_b3b12_level0_row6\" class=\"row_heading level0 row6\" >6</th>\n",
       "      <td id=\"T_b3b12_row6_col0\" class=\"data row6 col0\" >0.7097</td>\n",
       "      <td id=\"T_b3b12_row6_col1\" class=\"data row6 col1\" >0.7928</td>\n",
       "      <td id=\"T_b3b12_row6_col2\" class=\"data row6 col2\" >0.2917</td>\n",
       "      <td id=\"T_b3b12_row6_col3\" class=\"data row6 col3\" >0.8750</td>\n",
       "      <td id=\"T_b3b12_row6_col4\" class=\"data row6 col4\" >0.4375</td>\n",
       "      <td id=\"T_b3b12_row6_col5\" class=\"data row6 col5\" >0.3025</td>\n",
       "      <td id=\"T_b3b12_row6_col6\" class=\"data row6 col6\" >0.3855</td>\n",
       "    </tr>\n",
       "    <tr>\n",
       "      <th id=\"T_b3b12_level0_row7\" class=\"row_heading level0 row7\" >7</th>\n",
       "      <td id=\"T_b3b12_row7_col0\" class=\"data row7 col0\" >0.7419</td>\n",
       "      <td id=\"T_b3b12_row7_col1\" class=\"data row7 col1\" >0.7346</td>\n",
       "      <td id=\"T_b3b12_row7_col2\" class=\"data row7 col2\" >0.6250</td>\n",
       "      <td id=\"T_b3b12_row7_col3\" class=\"data row7 col3\" >0.6818</td>\n",
       "      <td id=\"T_b3b12_row7_col4\" class=\"data row7 col4\" >0.6522</td>\n",
       "      <td id=\"T_b3b12_row7_col5\" class=\"data row7 col5\" >0.4477</td>\n",
       "      <td id=\"T_b3b12_row7_col6\" class=\"data row7 col6\" >0.4487</td>\n",
       "    </tr>\n",
       "    <tr>\n",
       "      <th id=\"T_b3b12_level0_row8\" class=\"row_heading level0 row8\" >8</th>\n",
       "      <td id=\"T_b3b12_row8_col0\" class=\"data row8 col0\" >0.8226</td>\n",
       "      <td id=\"T_b3b12_row8_col1\" class=\"data row8 col1\" >0.8438</td>\n",
       "      <td id=\"T_b3b12_row8_col2\" class=\"data row8 col2\" >0.5833</td>\n",
       "      <td id=\"T_b3b12_row8_col3\" class=\"data row8 col3\" >0.9333</td>\n",
       "      <td id=\"T_b3b12_row8_col4\" class=\"data row8 col4\" >0.7179</td>\n",
       "      <td id=\"T_b3b12_row8_col5\" class=\"data row8 col5\" >0.5984</td>\n",
       "      <td id=\"T_b3b12_row8_col6\" class=\"data row8 col6\" >0.6335</td>\n",
       "    </tr>\n",
       "    <tr>\n",
       "      <th id=\"T_b3b12_level0_row9\" class=\"row_heading level0 row9\" >9</th>\n",
       "      <td id=\"T_b3b12_row9_col0\" class=\"data row9 col0\" >0.7419</td>\n",
       "      <td id=\"T_b3b12_row9_col1\" class=\"data row9 col1\" >0.7588</td>\n",
       "      <td id=\"T_b3b12_row9_col2\" class=\"data row9 col2\" >0.4583</td>\n",
       "      <td id=\"T_b3b12_row9_col3\" class=\"data row9 col3\" >0.7857</td>\n",
       "      <td id=\"T_b3b12_row9_col4\" class=\"data row9 col4\" >0.5789</td>\n",
       "      <td id=\"T_b3b12_row9_col5\" class=\"data row9 col5\" >0.4109</td>\n",
       "      <td id=\"T_b3b12_row9_col6\" class=\"data row9 col6\" >0.4420</td>\n",
       "    </tr>\n",
       "    <tr>\n",
       "      <th id=\"T_b3b12_level0_row10\" class=\"row_heading level0 row10\" >Mean</th>\n",
       "      <td id=\"T_b3b12_row10_col0\" class=\"data row10 col0\" >0.7526</td>\n",
       "      <td id=\"T_b3b12_row10_col1\" class=\"data row10 col1\" >0.7794</td>\n",
       "      <td id=\"T_b3b12_row10_col2\" class=\"data row10 col2\" >0.5179</td>\n",
       "      <td id=\"T_b3b12_row10_col3\" class=\"data row10 col3\" >0.7883</td>\n",
       "      <td id=\"T_b3b12_row10_col4\" class=\"data row10 col4\" >0.5981</td>\n",
       "      <td id=\"T_b3b12_row10_col5\" class=\"data row10 col5\" >0.4377</td>\n",
       "      <td id=\"T_b3b12_row10_col6\" class=\"data row10 col6\" >0.4707</td>\n",
       "    </tr>\n",
       "    <tr>\n",
       "      <th id=\"T_b3b12_level0_row11\" class=\"row_heading level0 row11\" >Std</th>\n",
       "      <td id=\"T_b3b12_row11_col0\" class=\"data row11 col0\" >0.0721</td>\n",
       "      <td id=\"T_b3b12_row11_col1\" class=\"data row11 col1\" >0.0782</td>\n",
       "      <td id=\"T_b3b12_row11_col2\" class=\"data row11 col2\" >0.1924</td>\n",
       "      <td id=\"T_b3b12_row11_col3\" class=\"data row11 col3\" >0.1259</td>\n",
       "      <td id=\"T_b3b12_row11_col4\" class=\"data row11 col4\" >0.1496</td>\n",
       "      <td id=\"T_b3b12_row11_col5\" class=\"data row11 col5\" >0.1734</td>\n",
       "      <td id=\"T_b3b12_row11_col6\" class=\"data row11 col6\" >0.1598</td>\n",
       "    </tr>\n",
       "  </tbody>\n",
       "</table>\n"
      ],
      "text/plain": [
       "<pandas.io.formats.style.Styler at 0x7fa896fe3f70>"
      ]
     },
     "metadata": {},
     "output_type": "display_data"
    },
    {
     "data": {
      "application/vnd.jupyter.widget-view+json": {
       "model_id": "",
       "version_major": 2,
       "version_minor": 0
      },
      "text/plain": [
       "Processing:   0%|          | 0/7 [00:00<?, ?it/s]"
      ]
     },
     "metadata": {},
     "output_type": "display_data"
    },
    {
     "name": "stdout",
     "output_type": "stream",
     "text": [
      "Fitting 10 folds for each of 10 candidates, totalling 100 fits\n"
     ]
    }
   ],
   "source": [
    "dt = create_model('dt')\n",
    "tuned_dt = tune_model(dt)"
   ]
  },
  {
   "cell_type": "code",
   "execution_count": 7,
   "id": "2e216b1c-d59c-40a2-be3e-785c25f50ee2",
   "metadata": {},
   "outputs": [
    {
     "data": {
      "text/html": [
       "<style>#sk-container-id-1 {color: black;background-color: white;}#sk-container-id-1 pre{padding: 0;}#sk-container-id-1 div.sk-toggleable {background-color: white;}#sk-container-id-1 label.sk-toggleable__label {cursor: pointer;display: block;width: 100%;margin-bottom: 0;padding: 0.3em;box-sizing: border-box;text-align: center;}#sk-container-id-1 label.sk-toggleable__label-arrow:before {content: \"▸\";float: left;margin-right: 0.25em;color: #696969;}#sk-container-id-1 label.sk-toggleable__label-arrow:hover:before {color: black;}#sk-container-id-1 div.sk-estimator:hover label.sk-toggleable__label-arrow:before {color: black;}#sk-container-id-1 div.sk-toggleable__content {max-height: 0;max-width: 0;overflow: hidden;text-align: left;background-color: #f0f8ff;}#sk-container-id-1 div.sk-toggleable__content pre {margin: 0.2em;color: black;border-radius: 0.25em;background-color: #f0f8ff;}#sk-container-id-1 input.sk-toggleable__control:checked~div.sk-toggleable__content {max-height: 200px;max-width: 100%;overflow: auto;}#sk-container-id-1 input.sk-toggleable__control:checked~label.sk-toggleable__label-arrow:before {content: \"▾\";}#sk-container-id-1 div.sk-estimator input.sk-toggleable__control:checked~label.sk-toggleable__label {background-color: #d4ebff;}#sk-container-id-1 div.sk-label input.sk-toggleable__control:checked~label.sk-toggleable__label {background-color: #d4ebff;}#sk-container-id-1 input.sk-hidden--visually {border: 0;clip: rect(1px 1px 1px 1px);clip: rect(1px, 1px, 1px, 1px);height: 1px;margin: -1px;overflow: hidden;padding: 0;position: absolute;width: 1px;}#sk-container-id-1 div.sk-estimator {font-family: monospace;background-color: #f0f8ff;border: 1px dotted black;border-radius: 0.25em;box-sizing: border-box;margin-bottom: 0.5em;}#sk-container-id-1 div.sk-estimator:hover {background-color: #d4ebff;}#sk-container-id-1 div.sk-parallel-item::after {content: \"\";width: 100%;border-bottom: 1px solid gray;flex-grow: 1;}#sk-container-id-1 div.sk-label:hover label.sk-toggleable__label {background-color: #d4ebff;}#sk-container-id-1 div.sk-serial::before {content: \"\";position: absolute;border-left: 1px solid gray;box-sizing: border-box;top: 0;bottom: 0;left: 50%;z-index: 0;}#sk-container-id-1 div.sk-serial {display: flex;flex-direction: column;align-items: center;background-color: white;padding-right: 0.2em;padding-left: 0.2em;position: relative;}#sk-container-id-1 div.sk-item {position: relative;z-index: 1;}#sk-container-id-1 div.sk-parallel {display: flex;align-items: stretch;justify-content: center;background-color: white;position: relative;}#sk-container-id-1 div.sk-item::before, #sk-container-id-1 div.sk-parallel-item::before {content: \"\";position: absolute;border-left: 1px solid gray;box-sizing: border-box;top: 0;bottom: 0;left: 50%;z-index: -1;}#sk-container-id-1 div.sk-parallel-item {display: flex;flex-direction: column;z-index: 1;position: relative;background-color: white;}#sk-container-id-1 div.sk-parallel-item:first-child::after {align-self: flex-end;width: 50%;}#sk-container-id-1 div.sk-parallel-item:last-child::after {align-self: flex-start;width: 50%;}#sk-container-id-1 div.sk-parallel-item:only-child::after {width: 0;}#sk-container-id-1 div.sk-dashed-wrapped {border: 1px dashed gray;margin: 0 0.4em 0.5em 0.4em;box-sizing: border-box;padding-bottom: 0.4em;background-color: white;}#sk-container-id-1 div.sk-label label {font-family: monospace;font-weight: bold;display: inline-block;line-height: 1.2em;}#sk-container-id-1 div.sk-label-container {text-align: center;}#sk-container-id-1 div.sk-container {/* jupyter's `normalize.less` sets `[hidden] { display: none; }` but bootstrap.min.css set `[hidden] { display: none !important; }` so we also need the `!important` here to be able to override the default hidden behavior on the sphinx rendered scikit-learn.org. See: https://github.com/scikit-learn/scikit-learn/issues/21755 */display: inline-block !important;position: relative;}#sk-container-id-1 div.sk-text-repr-fallback {display: none;}</style><div id=\"sk-container-id-1\" class=\"sk-top-container\"><div class=\"sk-text-repr-fallback\"><pre>DecisionTreeClassifier(ccp_alpha=0.0, class_weight=None, criterion=&#x27;entropy&#x27;,\n",
       "                       max_depth=11, max_features=&#x27;log2&#x27;, max_leaf_nodes=None,\n",
       "                       min_impurity_decrease=0.005, min_samples_leaf=3,\n",
       "                       min_samples_split=10, min_weight_fraction_leaf=0.0,\n",
       "                       random_state=1390, splitter=&#x27;best&#x27;)</pre><b>In a Jupyter environment, please rerun this cell to show the HTML representation or trust the notebook. <br />On GitHub, the HTML representation is unable to render, please try loading this page with nbviewer.org.</b></div><div class=\"sk-container\" hidden><div class=\"sk-item\"><div class=\"sk-estimator sk-toggleable\"><input class=\"sk-toggleable__control sk-hidden--visually\" id=\"sk-estimator-id-1\" type=\"checkbox\" checked><label for=\"sk-estimator-id-1\" class=\"sk-toggleable__label sk-toggleable__label-arrow\">DecisionTreeClassifier</label><div class=\"sk-toggleable__content\"><pre>DecisionTreeClassifier(ccp_alpha=0.0, class_weight=None, criterion=&#x27;entropy&#x27;,\n",
       "                       max_depth=11, max_features=&#x27;log2&#x27;, max_leaf_nodes=None,\n",
       "                       min_impurity_decrease=0.005, min_samples_leaf=3,\n",
       "                       min_samples_split=10, min_weight_fraction_leaf=0.0,\n",
       "                       random_state=1390, splitter=&#x27;best&#x27;)</pre></div></div></div></div></div>"
      ],
      "text/plain": [
       "DecisionTreeClassifier(ccp_alpha=0.0, class_weight=None, criterion='entropy',\n",
       "                       max_depth=11, max_features='log2', max_leaf_nodes=None,\n",
       "                       min_impurity_decrease=0.005, min_samples_leaf=3,\n",
       "                       min_samples_split=10, min_weight_fraction_leaf=0.0,\n",
       "                       random_state=1390, splitter='best')"
      ]
     },
     "execution_count": 7,
     "metadata": {},
     "output_type": "execute_result"
    }
   ],
   "source": [
    "tuned_dt"
   ]
  },
  {
   "cell_type": "code",
   "execution_count": 8,
   "id": "da94e0c4-d12d-4821-963b-e2b6ca3beb6d",
   "metadata": {},
   "outputs": [
    {
     "data": {
      "application/vnd.jupyter.widget-view+json": {
       "model_id": "ac459c88bed443249c281ea1a1c251aa",
       "version_major": 2,
       "version_minor": 0
      },
      "text/plain": [
       "interactive(children=(ToggleButtons(description='Plot Type:', icons=('',), options=(('Pipeline Plot', 'pipelin…"
      ]
     },
     "metadata": {},
     "output_type": "display_data"
    }
   ],
   "source": [
    "evaluate_model(tuned_dt)"
   ]
  },
  {
   "cell_type": "code",
   "execution_count": 9,
   "id": "ed7a90ab-52b2-435d-b411-5a296144fc81",
   "metadata": {},
   "outputs": [
    {
     "data": {
      "text/plain": [
       "sklearn.tree._classes.DecisionTreeClassifier"
      ]
     },
     "execution_count": 9,
     "metadata": {},
     "output_type": "execute_result"
    }
   ],
   "source": [
    "type(tuned_dt)"
   ]
  },
  {
   "cell_type": "code",
   "execution_count": null,
   "id": "b055b529-4ed4-4eab-b52e-7f46166a3e72",
   "metadata": {},
   "outputs": [],
   "source": []
  },
  {
   "cell_type": "code",
   "execution_count": null,
   "id": "097a8015-0a68-4bbd-a2a2-164f02af6c1e",
   "metadata": {},
   "outputs": [],
   "source": []
  },
  {
   "cell_type": "code",
   "execution_count": null,
   "id": "204cbb4a-d34a-4f98-82b6-01edd1eba244",
   "metadata": {},
   "outputs": [],
   "source": []
  },
  {
   "cell_type": "code",
   "execution_count": null,
   "id": "dcb47786-5ee9-42a4-938b-2805fa479494",
   "metadata": {},
   "outputs": [],
   "source": []
  }
 ],
 "metadata": {
  "kernelspec": {
   "display_name": "Python 3",
   "language": "python",
   "name": "python3"
  },
  "language_info": {
   "codemirror_mode": {
    "name": "ipython",
    "version": 3
   },
   "file_extension": ".py",
   "mimetype": "text/x-python",
   "name": "python",
   "nbconvert_exporter": "python",
   "pygments_lexer": "ipython3",
   "version": "3.9.5"
  }
 },
 "nbformat": 4,
 "nbformat_minor": 5
}
